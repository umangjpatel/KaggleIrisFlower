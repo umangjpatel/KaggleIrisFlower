{
 "cells": [
  {
   "cell_type": "markdown",
   "metadata": {},
   "source": [
    "<h1>Iris Flower Classification with Logistic Regression</h1>\n",
    "<p>In this notebook, I will classify an Iris flower into three classes known as :-</p>\n",
    "<ul>\n",
    "    <li><i>Iris-setosa</i></li>\n",
    "    <li><i>Iris-virginica</i></li>\n",
    "    <li><i>Iris-versicolor</i></li>\n",
    "</ul>\n",
    "<p>I will classify them based on the following features :-</p>\n",
    "<ul>\n",
    "    <li>Sepal Length (in cm)</li>\n",
    "    <li>Sepal Width (in cm)</li>\n",
    "    <li>Petal Length (in cm)</li>\n",
    "    <li>Petal Width (in cm)</li>\n",
    "</ul>\n",
    "<p>For simplicity, I will classify an Iris flower into <i>Iris-setosa</i> and <i>Iris-versicolor</i> based on their Sepal Length and Sepal Width i.e <b>Binary Classification</b></p>"
   ]
  },
  {
   "cell_type": "markdown",
   "metadata": {},
   "source": [
    "<h3>Importing packages</h3>\n",
    "<p>To build our own classifier, we require the following packages</p>\n",
    "<ul>\n",
    "    <li>NumPy, for vectorized calculations</li>\n",
    "    <li>Pandas for reading the dataset</li>\n",
    "    <li>Matplotlib, for data visualization</li>\n",
    "    <li>Scipy's fmin_tnc function, for our optimization algorithm</li>\n",
    "</ul>"
   ]
  },
  {
   "cell_type": "code",
   "execution_count": 1,
   "metadata": {},
   "outputs": [],
   "source": [
    "import numpy as np\n",
    "import pandas as pd\n",
    "import matplotlib.pyplot as plt\n",
    "from scipy.optimize import fmin_tnc"
   ]
  },
  {
   "cell_type": "markdown",
   "metadata": {},
   "source": [
    "<h3>Fetching the dataset</h3>\n",
    "<p>We will fetch the Iris dataset, found from Kaggle, using the Pandas's read_csv function and store the resultant DataFrame into a variable, and print the first five entries</p>\n",
    "<p>We see that there are in total six columns as follows :-</p>\n",
    "<ol>\n",
    "    <li>Id (dropped as it is of no use)</li>\n",
    "    <li>SepalLengthCm : The length of the sepal (in cm)</li>\n",
    "    <li>SepalWidthCm : The width of the sepal (in cm)</li>\n",
    "    <li>PetalLengthCm : The length of the petal (in cm)</li>\n",
    "    <li>PetalWidthCm : The width of the petal (in cm)</li>\n",
    "</ol>"
   ]
  },
  {
   "cell_type": "code",
   "execution_count": 2,
   "metadata": {},
   "outputs": [
    {
     "name": "stdout",
     "output_type": "stream",
     "text": [
      "   SepalLengthCm  SepalWidthCm  PetalLengthCm  PetalWidthCm      Species\n",
      "0            5.1           3.5            1.4           0.2  Iris-setosa\n",
      "1            4.9           3.0            1.4           0.2  Iris-setosa\n",
      "2            4.7           3.2            1.3           0.2  Iris-setosa\n",
      "3            4.6           3.1            1.5           0.2  Iris-setosa\n",
      "4            5.0           3.6            1.4           0.2  Iris-setosa\n"
     ]
    }
   ],
   "source": [
    "dataset = pd.read_csv('Iris.csv').drop(['Id'], axis=1)\n",
    "print(dataset.head())"
   ]
  },
  {
   "cell_type": "markdown",
   "metadata": {},
   "source": [
    "<h3>Dividing the dataset based on the classes</h3>\n",
    "<p>From the dataset, we know that there are three values of flower species. So, we separate the data of the three types of Iris flowers and moreover, we again separate them based on sepal and petal measurements</p>"
   ]
  },
  {
   "cell_type": "code",
   "execution_count": 3,
   "metadata": {},
   "outputs": [],
   "source": [
    "iris_setosa = dataset[dataset['Species'] == 'Iris-setosa']\n",
    "iris_virginica = dataset[dataset['Species'] == 'Iris-virginica']\n",
    "iris_versicolor = dataset[dataset['Species'] == 'Iris-versicolor']\n",
    "\n",
    "sepal_iris_setosa = iris_setosa.drop(['PetalLengthCm', 'PetalWidthCm'], axis=1)\n",
    "petal_iris_setosa = iris_setosa.drop(['SepalLengthCm', 'SepalWidthCm'], axis=1)\n",
    "\n",
    "sepal_iris_virginica = iris_virginica.drop(['PetalLengthCm', 'PetalWidthCm'], axis=1)\n",
    "petal_iris_virginica = iris_virginica.drop(['SepalLengthCm', 'SepalWidthCm'], axis=1)\n",
    "\n",
    "sepal_iris_versicolor = iris_versicolor.drop(['PetalLengthCm', 'PetalWidthCm'], axis=1)\n",
    "petal_iris_versicolor = iris_versicolor.drop(['SepalLengthCm', 'SepalWidthCm'], axis=1)"
   ]
  },
  {
   "cell_type": "markdown",
   "metadata": {},
   "source": [
    "<h3>Visualizing whether a flower is Iris Setosa or Iris Versicolor</h3>\n",
    "<p>We make a scatter plot between sepal length and sepal width of the Iris-setosa flowers and Iris-versicolor flowers. As shown, we see that we can make a linear decision boundary that can be used to classify these flowers</p>"
   ]
  },
  {
   "cell_type": "code",
   "execution_count": 4,
   "metadata": {},
   "outputs": [
    {
     "data": {
      "image/png": "[encoded data removed]",
      "text/plain": [
       "<Figure size 432x288 with 1 Axes>"
      ]
     },
     "metadata": {
      "needs_background": "light"
     },
     "output_type": "display_data"
    }
   ],
   "source": [
    "plt.scatter(sepal_iris_setosa['SepalLengthCm'].values, sepal_iris_setosa['SepalWidthCm'].values, color=\"red\", marker=\"x\")\n",
    "plt.scatter(sepal_iris_versicolor['SepalLengthCm'].values, sepal_iris_versicolor['SepalWidthCm'].values, color=\"blue\", marker=\"o\")\n",
    "plt.xlabel('Sepal Length (in cm)')\n",
    "plt.ylabel('Sepal Width (in cm)')\n",
    "plt.title('Classifying whether a flower is Iris Setosa or Iris Versicolor')\n",
    "plt.show()"
   ]
  },
  {
   "cell_type": "markdown",
   "metadata": {},
   "source": [
    "<h3>Feature Extraction</h3>\n",
    "<p>To correctly classify the flowers, we only need to extract the 'SepalLengthCm' and 'SepalWidthCm' features from the dataset. First of all, we choose the mentioned features and store it in 'features' variable and then, choose the 'Species' column from the dataset and store it in the 'labels' variable</p>\n",
    "<p>Secondly, we need to add ones to the feature index number 0 for all training samples as this allows us to do matrix operations with theta and x, making the two vectors 'theta' and 'x(i)' match each other element-wise i.e have the same number of elements.</p>\n",
    "<p>Finally, we also need to assign numeric values for our labels and not string values. So, we replace all the values that are equal to 'Iris-setosa' by 1 and others by 0. In this way, it becomes easy to calcuate the cost, error and optimized the theta parameters</p>"
   ]
  },
  {
   "cell_type": "code",
   "execution_count": 5,
   "metadata": {},
   "outputs": [
    {
     "name": "stdout",
     "output_type": "stream",
     "text": [
      "(100, 3)\n",
      "(100,)\n"
     ]
    }
   ],
   "source": [
    "data = dataset[dataset['Species'] != 'Iris-virginica'].drop(['PetalLengthCm', 'PetalWidthCm'], axis=1)\n",
    "features = data.drop(['Species'], axis=1)\n",
    "labels = data['Species'].values\n",
    "features.insert(0, 'ones', np.ones(features.shape[0]))\n",
    "features = features.values\n",
    "labels = np.where(labels == 'Iris-setosa', 1, 0)\n",
    "print(features.shape)\n",
    "print(labels.shape)"
   ]
  },
  {
   "cell_type": "markdown",
   "metadata": {},
   "source": [
    "<h3>Coding the logistic regression model</h3>\n",
    "<p>For logistic regression, we change our hypothesis function to a Logistic / Sigmoid function as shown by the following formula :</p>\n",
    "<img src=\"https://lh6.googleusercontent.com/YLj7urDpb3LubdUz_Jq2xl-Lm5KVPvVZPvYo078tPK-XreLBqImRcKTtOvbbqH_CQ0dlw2VcN4fTwLiNdPbvfBLwmV8i4VOhJoH39pG3nZ45uVRGJhhlUPiJthADjOediA\" />\n",
    "<p>The logistic function restricts the output values to be in the range of 0 and 1</p>\n",
    "<p>The intuition of using the logistic function is that it will give us the probability that our output is 1. E.g : h(x) = 0.7 implies that there is 70% chance that our output is 1.</p>\n",
    "<p>The cost function in logistic regression is as follows :-</p>\n",
    "<img src=\"https://lh6.googleusercontent.com/HlkwfGp9LKyF0ff5DUJKRgwUjp-wh1nIkTA2hLLupIQDEe_A8MCdizCBxN5kepa4zBnv6ckp44ZUlkK2c1tms-GgB5fCBDY1Or8OeNWM3CJZnHER1G7pKu5xmCHmAmcV7w\" />\n",
    "<p>Notice that when y is equal to 1, then the second term will be zero and will not affect the result. If y is equal to 0, then the first term will be zero and will not affect the result. For incorrect outputs, the cost function gets penalized heavily.</p>\n",
    "<p>We also use gradient descent as our optimization algorithm. Gradient descent provides us the optimized values of theta that best divides the given data. It looks as follows :</p>\n",
    "<img src=\"https://cdn-images-1.medium.com/max/1600/0*8yzvd7QZLn5T1XWg.jpg\" />\n",
    "<p>In above, we make a separate function for calculating only the gradient (second term in above formula)</p>\n",
    "<p>Now, we need to optimize the theta values as fast as possible. To do that from scratch is difficult. Instead, we borrow that functionality from Scipy library. This library contains various advance optimization algorithms under the 'optimize' submodule.</p>\n",
    "<p>We will be using the 'fmin_tnc() function which takes the following parameters :</p>\n",
    "<ol>\n",
    "    <li>func : The name of the user-defined cost function (in our case, cost)</li>\n",
    "    <li>x0 : Initial values of theta</li>\n",
    "    <li>fprime : The name of the user-defined gradient function (in our case, gradient)</li>\n",
    "    <li>args : The tuple consisting of features (x) and labels (y)</li>\n",
    "</ol>\n",
    "<p>This function returns the optimized values of theta in it's first element.</p>"
   ]
  },
  {
   "cell_type": "code",
   "execution_count": 6,
   "metadata": {},
   "outputs": [
    {
     "name": "stdout",
     "output_type": "stream",
     "text": [
      "[ 26.37857529 -11.60431002  11.61981372]\n"
     ]
    },
    {
     "name": "stderr",
     "output_type": "stream",
     "text": [
      "/Library/Frameworks/Python.framework/Versions/3.7/lib/python3.7/site-packages/ipykernel_launcher.py:12: RuntimeWarning: divide by zero encountered in log\n",
      "  if sys.path[0] == '':\n",
      "/Library/Frameworks/Python.framework/Versions/3.7/lib/python3.7/site-packages/ipykernel_launcher.py:12: RuntimeWarning: invalid value encountered in multiply\n",
      "  if sys.path[0] == '':\n"
     ]
    }
   ],
   "source": [
    "def sigmoid(x):\n",
    "    return 1 / (1 + np.exp(-x))\n",
    "\n",
    "def net_input(theta, x):\n",
    "    return np.dot(x, theta)\n",
    "\n",
    "def probability(theta, x):\n",
    "    return sigmoid(net_input(theta, x))\n",
    "\n",
    "def cost(theta, x, y):\n",
    "    m = x.shape[0]\n",
    "    total_cost = -(1 / m) * np.sum(y * np.log(probability(theta, x)) + (1 - y) * np.log(1 - probability(theta, x)))\n",
    "    return total_cost\n",
    "\n",
    "def gradient(theta, x, y):\n",
    "    m = x.shape[0]\n",
    "    return (1 / m) * np.dot(x.T, sigmoid(net_input(theta,   x)) - y)\n",
    "\n",
    "def fit(x,y):\n",
    "    theta = np.ones(x.shape[1])\n",
    "    theta = fmin_tnc(func=cost, x0=theta, fprime=gradient, args=(x,y))\n",
    "    return theta[0]\n",
    "\n",
    "theta = fit(features, labels)\n",
    "print(theta)"
   ]
  },
  {
   "cell_type": "markdown",
   "metadata": {},
   "source": [
    "<h3>Visualizing the decision boundary</h3>\n",
    "<p>As there are two features, the linear equation can be represented by :</p>\n",
    "<img src=\"https://cdn-images-1.medium.com/max/1600/1*p4JFHHlPo5PVZYc3uUhpAg.png\" />\n",
    "<p>The decision boundary can be found by setting the weighted sum of inputs to 0. Equating h(x) to 0, gives us :</p>\n",
    "<img src=\"https://cdn-images-1.medium.com/max/1600/1*oTv8jjq4-ojOEzilU3oSfg.png\" />\n",
    "<p>We will plot our descision boundary on top of the scatter plot we already made previously</p>"
   ]
  },
  {
   "cell_type": "code",
   "execution_count": 7,
   "metadata": {},
   "outputs": [
    {
     "data": {
      "image/png": "[encoded data removed]",
      "text/plain": [
       "<Figure size 432x288 with 1 Axes>"
      ]
     },
     "metadata": {
      "needs_background": "light"
     },
     "output_type": "display_data"
    }
   ],
   "source": [
    "x_vals = features[:,1]\n",
    "pred_y_vals = -(theta[0] + np.dot(x_vals, theta[1])) / theta[2]\n",
    "\n",
    "plt.plot(x_vals, pred_y_vals, color=\"green\")\n",
    "\n",
    "plt.scatter(sepal_iris_setosa['SepalLengthCm'].values, sepal_iris_setosa['SepalWidthCm'].values, color=\"red\", marker=\"x\")\n",
    "plt.scatter(sepal_iris_versicolor['SepalLengthCm'].values, sepal_iris_versicolor['SepalWidthCm'].values, color=\"blue\", marker=\"o\")\n",
    "plt.xlabel('Sepal Length (in cm)')\n",
    "plt.ylabel('Sepal Width (in cm)')\n",
    "plt.title('Classifying whether a flower is Iris Setosa or Iris Versicolor')\n",
    "plt.show()"
   ]
  }
 ],
 "metadata": {
  "kernelspec": {
   "display_name": "Python 3",
   "language": "python",
   "name": "python3"
  },
  "language_info": {
   "codemirror_mode": {
    "name": "ipython",
    "version": 3
   },
   "file_extension": ".py",
   "mimetype": "text/x-python",
   "name": "python",
   "nbconvert_exporter": "python",
   "pygments_lexer": "ipython3",
   "version": "3.7.1"
  }
 },
 "nbformat": 4,
 "nbformat_minor": 2
}
